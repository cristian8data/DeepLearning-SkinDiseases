{
  "cells": [
    {
      "cell_type": "markdown",
      "metadata": {
        "id": "BGqQnqFgsYri"
      },
      "source": [
        "# **Deep learning psoriasis/rosacea**\n"
      ]
    },
    {
      "cell_type": "markdown",
      "metadata": {
        "id": "mUIY_3aHKJN3"
      },
      "source": [
        "## Torch, torchvision, fastai"
      ]
    },
    {
      "cell_type": "code",
      "execution_count": null,
      "metadata": {
        "colab": {
          "base_uri": "https://localhost:8080/"
        },
        "id": "uDU_ygy6wAxh",
        "outputId": "536cf40c-acf7-471a-ffb3-deef73a419b2"
      },
      "outputs": [
        {
          "name": "stdout",
          "output_type": "stream",
          "text": [
            "Looking in indexes: https://pypi.org/simple, https://us-python.pkg.dev/colab-wheels/public/simple/\n",
            "\u001b[31mERROR: Could not find a version that satisfies the requirement torch==1.4 (from versions: 1.7.1, 1.8.0, 1.8.1, 1.9.0, 1.9.1, 1.10.0, 1.10.1, 1.10.2, 1.11.0, 1.12.0, 1.12.1, 1.13.0, 1.13.1, 2.0.0)\u001b[0m\u001b[31m\n",
            "\u001b[0m\u001b[31mERROR: No matching distribution found for torch==1.4\u001b[0m\u001b[31m\n",
            "\u001b[0m"
          ]
        }
      ],
      "source": [
        "!pip install \"torch==1.4\" \"torchvision==0.5.0\""
      ]
    },
    {
      "cell_type": "code",
      "execution_count": null,
      "metadata": {
        "id": "vnUKL_boT-ed"
      },
      "outputs": [],
      "source": [
        "import torch\n",
        "torch.cuda.empty_cache()"
      ]
    },
    {
      "cell_type": "code",
      "execution_count": null,
      "metadata": {
        "colab": {
          "base_uri": "https://localhost:8080/"
        },
        "id": "GX9bBDAPHPBp",
        "outputId": "98fe3d05-19dc-4479-df86-9e8a340cfc58"
      },
      "outputs": [
        {
          "name": "stdout",
          "output_type": "stream",
          "text": [
            "Python 3.9.16\n"
          ]
        }
      ],
      "source": [
        "!python --version"
      ]
    },
    {
      "cell_type": "code",
      "execution_count": null,
      "metadata": {
        "id": "SEfCAdqS3Bb4"
      },
      "outputs": [],
      "source": [
        "!pip install fastai"
      ]
    },
    {
      "cell_type": "code",
      "execution_count": null,
      "metadata": {
        "colab": {
          "base_uri": "https://localhost:8080/"
        },
        "id": "ZRaE1tT8z5zN",
        "outputId": "8fe2532e-8b6d-4e31-98c9-d3e369229e19"
      },
      "outputs": [
        {
          "name": "stdout",
          "output_type": "stream",
          "text": [
            "fastai                        2.7.12               /usr/local/lib/python3.9/dist-packages pip\n"
          ]
        }
      ],
      "source": [
        "!pip list -v | grep fastai"
      ]
    },
    {
      "cell_type": "markdown",
      "metadata": {
        "id": "f1pe5yIOhjoM"
      },
      "source": [
        "## Libraries and images upload"
      ]
    },
    {
      "cell_type": "code",
      "execution_count": null,
      "metadata": {
        "id": "mVNEwWqjuYju"
      },
      "outputs": [],
      "source": [
        "%reload_ext autoreload\n",
        "%autoreload 2\n",
        "%matplotlib inline"
      ]
    },
    {
      "cell_type": "code",
      "execution_count": 1,
      "metadata": {
        "colab": {
          "base_uri": "https://localhost:8080/"
        },
        "id": "3wvxnJck3SQG",
        "outputId": "1c56d12b-e032-4fc8-fb27-404b66d34475"
      },
      "outputs": [
        {
          "name": "stdout",
          "output_type": "stream",
          "text": [
            "Mounted at /content/drive\n"
          ]
        }
      ],
      "source": [
        "from google.colab import drive\n",
        "drive.mount('/content/drive')"
      ]
    },
    {
      "cell_type": "code",
      "execution_count": null,
      "metadata": {
        "colab": {
          "base_uri": "https://localhost:8080/",
          "height": 1000
        },
        "id": "NEdRrTij3vNm",
        "outputId": "0131253e-3820-486e-aac4-5d7492fbf995"
      },
      "outputs": [
        {
          "data": {
            "application/vnd.google.colaboratory.intrinsic+json": {
              "type": "string"
            },
            "text/plain": [
              "'/content/drive/MyDrive/Colab Notebooks/tfm_bioinformatica/Dataset2/Imagenes'"
            ]
          },
          "execution_count": 4,
          "metadata": {},
          "output_type": "execute_result"
        }
      ],
      "source": [
        "path = \"/content/drive/MyDrive/Colab Notebooks/Images_folder\"\n",
        "path"
      ]
    },
    {
      "cell_type": "code",
      "execution_count": null,
      "metadata": {
        "id": "zKBj4S1Y88cY"
      },
      "outputs": [],
      "source": [
        "import fastai\n",
        "from fastai.basics import *\n",
        "from fastai.vision.all import *\n",
        "from fastai.metrics import *\n",
        "from sklearn.metrics import accuracy_score, precision_score, recall_score, f1_score, cohen_kappa_score\n",
        "from sklearn.model_selection import LeaveOneOut\n",
        "\n",
        "import numpy as np\n",
        "import pandas as pd\n",
        "from sklearn.metrics import confusion_matrix\n",
        "import matplotlib.pyplot as plt\n",
        "\n",
        "import warnings\n",
        "warnings.filterwarnings(\"ignore\")"
      ]
    },
    {
      "cell_type": "markdown",
      "metadata": {
        "id": "ggsQlS-2727S"
      },
      "source": [
        "## Models"
      ]
    },
    {
      "cell_type": "markdown",
      "metadata": {
        "id": "TOFezn48KkrA"
      },
      "source": [
        "### CNN"
      ]
    },
    {
      "cell_type": "code",
      "execution_count": null,
      "metadata": {
        "colab": {
          "base_uri": "https://localhost:8080/",
          "height": 1000
        },
        "id": "y8jky7FSKkrV",
        "outputId": "472d8b5c-17f3-4215-da88-19cf12181532"
      },
      "outputs": [],
      "source": [
        "# Creamos el modelo\n",
        "model_cnn = nn.Sequential(\n",
        "    nn.Conv2d(3, 16, kernel_size=3, stride=1, padding=1),\n",
        "    nn.ReLU(),\n",
        "    nn.MaxPool2d(kernel_size=2, stride=2),\n",
        "    nn.Conv2d(16, 32, kernel_size=3, stride=1, padding=1),\n",
        "    nn.ReLU(),\n",
        "    nn.MaxPool2d(kernel_size=2, stride=2),\n",
        "    nn.Conv2d(32, 64, kernel_size=3, stride=1, padding=1),\n",
        "    nn.ReLU(),\n",
        "    nn.MaxPool2d(kernel_size=2, stride=2),\n",
        "    nn.Flatten(),\n",
        "    nn.Linear(64*28*28, 128),\n",
        "    nn.ReLU(),\n",
        "    nn.Linear(128, 2)\n",
        ")\n",
        "\n",
        "# Crea un objeto LeaveOneOut\n",
        "loo = LeaveOneOut()\n",
        "\n",
        "# Crear listas vacías para cada métrica\n",
        "accuracy_list1 = []\n",
        "precision_list1 = []\n",
        "recall_list1 = []\n",
        "f1score_list1 = []\n",
        "\n",
        "# Crea listas para almacenar las predicciones y las etiquetas verdaderas\n",
        "all_preds1 = []\n",
        "all_labels1 = []\n",
        "\n",
        "# Itera sobre cada conjunto de entrenamiento y prueba en el esquema LOO\n",
        "for train_idx, test_idx in loo.split(get_image_files(path)):\n",
        "    # Obtiene los índices de los elementos de entrenamiento y prueba\n",
        "    train_items, test_items = get_image_files(path)[train_idx], get_image_files(path)[test_idx]\n",
        "\n",
        "    # Crea un objeto DataBlock para cargar las imágenes de entrenamiento y prueba\n",
        "    dblock = DataBlock(blocks=(ImageBlock, CategoryBlock),\n",
        "                       get_items=get_image_files,\n",
        "                       get_y=parent_label,\n",
        "                       item_tfms=Resize(224),\n",
        "                       batch_tfms=aug_transforms())\n",
        "\n",
        "    # Crea un objeto DataLoader para los datos de entrenamiento y prueba\n",
        "    dls = dblock.dataloaders(path, bs=16, train=train_items, valid=test_items)\n",
        "\n",
        "    # Crear una nueva red neuronal convolucional con arquitectura ResNet-18 para este pliegue\n",
        "    learn_cnn = Learner(dls, model_cnn)\n",
        "\n",
        "    # Entrena el modelo\n",
        "    learn_cnn.fine_tune(5)\n",
        "\n",
        "    # Realiza la evaluación en los datos de prueba\n",
        "    preds, labels = learn_cnn.get_preds(dl=dls.valid)\n",
        "    all_preds1.extend(torch.argmax(preds, dim=1).tolist())\n",
        "    all_labels1.extend(labels.tolist())\n",
        "\n",
        "    # Calcula las métricas utilizando sklearn.metrics\n",
        "    accuracy_list1.append(accuracy_score(labels, torch.argmax(preds, dim=1)))\n",
        "    precision_list1.append(precision_score(labels, torch.argmax(preds, dim=1), average='macro'))\n",
        "    recall_list1.append(recall_score(labels, torch.argmax(preds, dim=1), average='macro'))\n",
        "    f1score_list1.append(f1_score(labels, torch.argmax(preds, dim=1), average='macro'))"
      ]
    },
    {
      "cell_type": "code",
      "execution_count": null,
      "metadata": {
        "colab": {
          "base_uri": "https://localhost:8080/"
        },
        "id": "E_8AvcNnKkrb",
        "outputId": "4df060b4-9419-48ab-be87-0ec679a77705"
      },
      "outputs": [],
      "source": [
        "import statistics\n",
        "\n",
        "# Calcular el coeficiente de Cohen kappa global\n",
        "kappa_global1 = cohen_kappa_score(all_labels1, all_preds1)\n",
        "\n",
        "# Calcular la media y desviación estándar de cada métrica a partir de la lista correspondiente\n",
        "accuracy_mean1 = statistics.mean(accuracy_list1)\n",
        "accuracy_std1 = statistics.stdev(accuracy_list1)\n",
        "precision_mean1 = statistics.mean(precision_list1)\n",
        "precision_std1 = statistics.stdev(precision_list1)\n",
        "recall_mean1 = statistics.mean(recall_list1)\n",
        "recall_std1 = statistics.stdev(recall_list1)\n",
        "f1score_mean1 = statistics.mean(f1score_list1)\n",
        "f1score_std1 = statistics.stdev(f1score_list1)\n",
        "\n",
        "# Imprimir los resultados en pantalla\n",
        "print(\"Accuracy: {:.4f} ± {:.4f}\".format(accuracy_mean1, accuracy_std1))\n",
        "print(\"Precision: {:.4f} ± {:.4f}\".format(precision_mean1, precision_std1))\n",
        "print(\"Recall: {:.4f} ± {:.4f}\".format(recall_mean1, recall_std1))\n",
        "print(\"F1-score: {:.4f} ± {:.4f}\".format(f1score_mean1, f1score_std1))\n",
        "print(\"Cohen's Kappa: {:.4f}\".format(kappa_global1))"
      ]
    },
    {
      "cell_type": "code",
      "execution_count": null,
      "metadata": {
        "id": "L6XP4H8aMzwt"
      },
      "outputs": [],
      "source": [
        "# Crear un diccionario con los resultados\n",
        "results1 = {\n",
        "    'Metric': ['Accuracy', 'Precision', 'Recall', 'F1-score', \"Cohen's Kappa\"],\n",
        "    'Mean': [accuracy_mean1, precision_mean1, recall_mean1, f1score_mean1, kappa_global1],\n",
        "    'Std': [accuracy_std1, precision_std1, recall_std1, f1score_std1, 0]\n",
        "}\n",
        "\n",
        "# Crear el DataFrame\n",
        "df1 = pd.DataFrame(results1)\n",
        "\n",
        "# Guardar el DataFrame en un archivo CSV\n",
        "df1.to_csv('/content/drive/MyDrive/Colab Notebooks/tfm_bioinformatica/metric_results/metric_results1.csv', index=False)"
      ]
    },
    {
      "cell_type": "markdown",
      "metadata": {
        "id": "RAzIAoaP77MK"
      },
      "source": [
        "### ResNet-18"
      ]
    },
    {
      "cell_type": "code",
      "execution_count": null,
      "metadata": {
        "colab": {
          "base_uri": "https://localhost:8080/",
          "height": 1000
        },
        "id": "Ltp_jBI3ur5U",
        "outputId": "608edcc9-569c-4cf6-dd1a-e9a276691403"
      },
      "outputs": [],
      "source": [
        "# Crea un objeto LeaveOneOut\n",
        "loo = LeaveOneOut()\n",
        "\n",
        "# Crear listas vacías para cada métrica\n",
        "accuracy_list2 = []\n",
        "precision_list2 = []\n",
        "recall_list2 = []\n",
        "f1score_list2 = []\n",
        "\n",
        "# Crea listas para almacenar las predicciones y las etiquetas verdaderas\n",
        "all_preds2 = []\n",
        "all_labels2 = []\n",
        "\n",
        "# Itera sobre cada conjunto de entrenamiento y prueba en el esquema LOO\n",
        "for train_idx, test_idx in loo.split(get_image_files(path)):\n",
        "  # Obtiene los índices de los elementos de entrenamiento y prueba\n",
        "    train_items, test_items = get_image_files(path)[train_idx], get_image_files(path)[test_idx]\n",
        "\n",
        "    # Crea un objeto DataBlock para cargar las imágenes de entrenamiento y prueba\n",
        "    dblock = DataBlock(blocks=(ImageBlock, CategoryBlock),\n",
        "                       get_items=get_image_files,\n",
        "                       get_y=parent_label,\n",
        "                       item_tfms=Resize(224),\n",
        "                       batch_tfms=aug_transforms())\n",
        "\n",
        "    # Crea un objeto DataLoader para los datos de entrenamiento y prueba\n",
        "    dls = dblock.dataloaders(path, bs=16, train=train_items, valid=test_items)\n",
        "\n",
        "    # Crea un modelo de aprendizaje automático\n",
        "    learn_rn18 = cnn_learner(dls, resnet18, pretrained=True)\n",
        "\n",
        "    # Entrena el modelo\n",
        "    learn_rn18.fine_tune(5)\n",
        "\n",
        "    # Realiza la evaluación en los datos de prueba\n",
        "    preds, labels = learn_rn18.get_preds(dl=dls.valid)\n",
        "    all_preds2.extend(torch.argmax(preds, dim=1).tolist())\n",
        "    all_labels2.extend(labels.tolist())\n",
        "\n",
        "    # Calcula las métricas utilizando sklearn.metrics\n",
        "    accuracy_list2.append(accuracy_score(labels, torch.argmax(preds, dim=1)))\n",
        "    precision_list2.append(precision_score(labels, torch.argmax(preds, dim=1), average='macro'))\n",
        "    recall_list2.append(recall_score(labels, torch.argmax(preds, dim=1), average='macro'))\n",
        "    f1score_list2.append(f1_score(labels, torch.argmax(preds, dim=1), average='macro'))"
      ]
    },
    {
      "cell_type": "code",
      "execution_count": null,
      "metadata": {
        "colab": {
          "base_uri": "https://localhost:8080/"
        },
        "id": "VmknAYdSMFTf",
        "outputId": "b58ae0a2-cdb9-49dc-f3a2-1ec740cb4bea"
      },
      "outputs": [],
      "source": [
        "import statistics\n",
        "\n",
        "# Calcular el coeficiente de Cohen kappa global\n",
        "kappa_global2 = cohen_kappa_score(all_labels2, all_preds2)\n",
        "\n",
        "# Calcular la media y desviación estándar de cada métrica a partir de la lista correspondiente\n",
        "accuracy_mean2 = statistics.mean(accuracy_list2)\n",
        "accuracy_std2 = statistics.stdev(accuracy_list2)\n",
        "precision_mean2 = statistics.mean(precision_list2)\n",
        "precision_std2 = statistics.stdev(precision_list2)\n",
        "recall_mean2 = statistics.mean(recall_list2)\n",
        "recall_std2 = statistics.stdev(recall_list2)\n",
        "f1score_mean2 = statistics.mean(f1score_list2)\n",
        "f1score_std2 = statistics.stdev(f1score_list2)\n",
        "\n",
        "# Imprimir los resultados en pantalla\n",
        "print(\"Accuracy: {:.4f} ± {:.4f}\".format(accuracy_mean2, accuracy_std2))\n",
        "print(\"Precision: {:.4f} ± {:.4f}\".format(precision_mean2, precision_std2))\n",
        "print(\"Recall: {:.4f} ± {:.4f}\".format(recall_mean2, recall_std2))\n",
        "print(\"F1-score: {:.4f} ± {:.4f}\".format(f1score_mean2, f1score_std2))\n",
        "print(\"Cohen's Kappa: {:.4f}\".format(kappa_global2))"
      ]
    },
    {
      "cell_type": "code",
      "execution_count": null,
      "metadata": {
        "id": "RhpuFUtoEXMn"
      },
      "outputs": [],
      "source": [
        "# Crear un diccionario con los resultados\n",
        "results2 = {\n",
        "    'Metric': ['Accuracy', 'Precision', 'Recall', 'F1-score', \"Cohen's Kappa\"],\n",
        "    'Mean': [accuracy_mean2, precision_mean2, recall_mean2, f1score_mean2, kappa_global2],\n",
        "    'Std': [accuracy_std2, precision_std2, recall_std2, f1score_std2, 0]\n",
        "    }\n",
        "\n",
        "# Crear el DataFrame\n",
        "df2 = pd.DataFrame(results2)\n",
        "\n",
        "# Guardar el DataFrame en un archivo CSV\n",
        "df2.to_csv('/content/drive/MyDrive/Colab Notebooks/tfm_bioinformatica/metric_results/metric_results2.csv', index=False)"
      ]
    },
    {
      "cell_type": "markdown",
      "metadata": {
        "id": "R-yEjGYgiS9R"
      },
      "source": [
        "### Vgg16"
      ]
    },
    {
      "cell_type": "code",
      "execution_count": null,
      "metadata": {
        "colab": {
          "base_uri": "https://localhost:8080/",
          "height": 1000
        },
        "id": "pcN5wQC5iS9V",
        "outputId": "39e09804-3355-4c75-9c33-bdbad199c84f"
      },
      "outputs": [],
      "source": [
        "# Crea un objeto LeaveOneOut\n",
        "loo = LeaveOneOut()\n",
        "\n",
        "# Crear listas vacías para cada métrica\n",
        "accuracy_list3 = []\n",
        "precision_list3 = []\n",
        "recall_list3 = []\n",
        "f1score_list3 = []\n",
        "\n",
        "# Crea listas para almacenar las predicciones y las etiquetas verdaderas\n",
        "all_preds3 = []\n",
        "all_labels3 = []\n",
        "\n",
        "# Itera sobre cada conjunto de entrenamiento y prueba en el esquema LOO\n",
        "for train_idx, test_idx in loo.split(get_image_files(path)):\n",
        "    # Obtiene los índices de los elementos de entrenamiento y prueba\n",
        "    train_items, test_items = get_image_files(path)[train_idx], get_image_files(path)[test_idx]\n",
        "\n",
        "    # Crea un objeto DataBlock para cargar las imágenes de entrenamiento y prueba\n",
        "    dblock = DataBlock(blocks=(ImageBlock, CategoryBlock),\n",
        "                       get_items=get_image_files,\n",
        "                       get_y=parent_label,\n",
        "                       item_tfms=Resize(224),\n",
        "                       batch_tfms=aug_transforms())\n",
        "\n",
        "    # Crea un objeto DataLoader para los datos de entrenamiento y prueba\n",
        "    dls = dblock.dataloaders(path, bs=16, train=train_items, valid=test_items)\n",
        "\n",
        "    # Crear una red neuronal convolucional con arquitectura VGG16\n",
        "    learn_vgg = cnn_learner(dls, vgg16, pretrained=True)\n",
        "\n",
        "    # Entrena el modelo\n",
        "    learn_vgg.fine_tune(5)\n",
        "\n",
        "    # Realiza la evaluación en los datos de prueba\n",
        "    preds, labels = learn_vgg.get_preds(dl=dls.valid)\n",
        "    all_preds3.extend(torch.argmax(preds, dim=1).tolist())\n",
        "    all_labels3.extend(labels.tolist())\n",
        "\n",
        "    # Calcula las métricas utilizando sklearn.metrics\n",
        "    accuracy_list3.append(accuracy_score(labels, torch.argmax(preds, dim=1)))\n",
        "    precision_list3.append(precision_score(labels, torch.argmax(preds, dim=1), average='macro'))\n",
        "    recall_list3.append(recall_score(labels, torch.argmax(preds, dim=1), average='macro'))\n",
        "    f1score_list3.append(f1_score(labels, torch.argmax(preds, dim=1), average='macro'))"
      ]
    },
    {
      "cell_type": "code",
      "execution_count": null,
      "metadata": {
        "colab": {
          "base_uri": "https://localhost:8080/"
        },
        "id": "4o-UkyzYiS9X",
        "outputId": "f1382eeb-5bbb-4bc1-d08f-83eb4056e2f4"
      },
      "outputs": [],
      "source": [
        "import statistics\n",
        "\n",
        "# Calcular el coeficiente de Cohen kappa global\n",
        "kappa_global3 = cohen_kappa_score(all_labels3, all_preds3)\n",
        "\n",
        "# Calcular la media y desviación estándar de cada métrica a partir de la lista correspondiente\n",
        "accuracy_mean3 = statistics.mean(accuracy_list3)\n",
        "accuracy_std3 = statistics.stdev(accuracy_list3)\n",
        "precision_mean3 = statistics.mean(precision_list3)\n",
        "precision_std3 = statistics.stdev(precision_list3)\n",
        "recall_mean3 = statistics.mean(recall_list3)\n",
        "recall_std3 = statistics.stdev(recall_list3)\n",
        "f1score_mean3 = statistics.mean(f1score_list3)\n",
        "f1score_std3 = statistics.stdev(f1score_list3)\n",
        "\n",
        "# Imprimir los resultados en pantalla\n",
        "print(\"Accuracy: {:.4f} ± {:.4f}\".format(accuracy_mean3, accuracy_std3))\n",
        "print(\"Precision: {:.4f} ± {:.4f}\".format(precision_mean3, precision_std3))\n",
        "print(\"Recall: {:.4f} ± {:.4f}\".format(recall_mean3, recall_std3))\n",
        "print(\"F1-score: {:.4f} ± {:.4f}\".format(f1score_mean3, f1score_std3))\n",
        "print(\"Cohen's Kappa: {:.4f}\".format(kappa_global3))"
      ]
    },
    {
      "cell_type": "code",
      "execution_count": null,
      "metadata": {
        "id": "qL38UpXwNERn"
      },
      "outputs": [],
      "source": [
        "# Crear un diccionario con los resultados\n",
        "results3 = {\n",
        "    'Metric': ['Accuracy', 'Precision', 'Recall', 'F1-score', \"Cohen's Kappa\"],\n",
        "    'Mean': [accuracy_mean3, precision_mean3, recall_mean3, f1score_mean3, kappa_global3],\n",
        "    'Std': [accuracy_std3, precision_std3, recall_std3, f1score_std3, 0]\n",
        "}\n",
        "\n",
        "# Crear el DataFrame\n",
        "df3 = pd.DataFrame(results3)\n",
        "\n",
        "# Guardar el DataFrame en un archivo CSV\n",
        "df3.to_csv('/content/drive/MyDrive/Colab Notebooks/tfm_bioinformatica/metric_results/metric_results3.csv', index=False)"
      ]
    },
    {
      "cell_type": "markdown",
      "metadata": {
        "id": "2UNxV1YOvFUv"
      },
      "source": [
        "### Efficient-Net-V2"
      ]
    },
    {
      "cell_type": "code",
      "execution_count": null,
      "metadata": {
        "colab": {
          "base_uri": "https://localhost:8080/",
          "height": 1000,
          "referenced_widgets": [
            "3a65ddf7e37f447b87bec60ef27c78a1",
            "c91387fc0d7041dabb99ad1dab10627f",
            "f005e92450ed4b94b4f7ac69c99fdefd",
            "11284432c7e54844bf9b018098328456",
            "3355b109b56b4b189cd7f191812a875c",
            "0e0c840932cf49ebbc6df046c48e96b8",
            "8e9ea64e813845d5be65ccc742a72fa3",
            "3abc97b29aae40ec9088e95ae92647de",
            "4b6b3db862d64c589a5ea81f6eeffb6a",
            "9dfca645b6724737ace930eebca6bfd5",
            "7a9a3ec569ab4e4b96475edf63bbe2cd"
          ]
        },
        "id": "F-frfH3JbjCu",
        "outputId": "ddf81b15-dde5-426d-f4c7-dfbbcb3281f3"
      },
      "outputs": [],
      "source": [
        "# Importamos EfficientNetV2\n",
        "!pip install timm\n",
        "from timm import create_model\n",
        "\n",
        "# Crea un objeto LeaveOneOut\n",
        "loo = LeaveOneOut()\n",
        "\n",
        "# Crear listas vacías para cada métrica\n",
        "accuracy_list4 = []\n",
        "precision_list4 = []\n",
        "recall_list4 = []\n",
        "f1score_list4 = []\n",
        "\n",
        "# Crea listas para almacenar las predicciones y las etiquetas verdaderas\n",
        "all_preds4 = []\n",
        "all_labels4 = []\n",
        "\n",
        "# Itera sobre cada conjunto de entrenamiento y prueba en el esquema LOO\n",
        "for train_idx, test_idx in loo.split(get_image_files(path)):\n",
        "    # Obtiene los índices de los elementos de entrenamiento y prueba\n",
        "    train_items, test_items = get_image_files(path)[train_idx], get_image_files(path)[test_idx]\n",
        "\n",
        "    # Crea un objeto DataBlock para cargar las imágenes de entrenamiento y prueba\n",
        "    dblock = DataBlock(blocks=(ImageBlock, CategoryBlock),\n",
        "                       get_items=get_image_files,\n",
        "                       get_y=parent_label,\n",
        "                       item_tfms=Resize(224),\n",
        "                       batch_tfms=aug_transforms())\n",
        "\n",
        "    # Crea un objeto DataLoader para los datos de entrenamiento y prueba\n",
        "    dls = dblock.dataloaders(path, bs=16, train=train_items, valid=test_items)\n",
        "\n",
        "    # Crear un modelo EfficientNetV2 pre-entrenado\n",
        "    model_effnetv2 = create_model('tf_efficientnetv2_s', pretrained=True)\n",
        "    n_features = model_effnetv2.classifier.in_features\n",
        "\n",
        "    # Reemplazar el clasificador lineal de la red por uno nuevo\n",
        "    model_effnetv2.classifier = nn.Linear(n_features, len(dls.vocab))\n",
        "\n",
        "    # Crear una nueva red neuronal convolucional con arquitectura ResNet-18 para este pliegue\n",
        "    learn_effnetv2 = Learner(dls, model_effnetv2)\n",
        "\n",
        "    # Entrenar el modelo en este pliegue y obtener las métricas\n",
        "    learn_effnetv2.fine_tune(5)\n",
        "\n",
        "    # Realiza la evaluación en los datos de prueba\n",
        "    preds, labels = learn_effnetv2.get_preds(dl=dls.valid)\n",
        "    all_preds4.extend(torch.argmax(preds, dim=1).tolist())\n",
        "    all_labels4.extend(labels.tolist())\n",
        "\n",
        "    # Calcula las métricas utilizando sklearn.metrics\n",
        "    accuracy_list4.append(accuracy_score(labels, torch.argmax(preds, dim=1)))\n",
        "    precision_list4.append(precision_score(labels, torch.argmax(preds, dim=1), average='macro'))\n",
        "    recall_list4.append(recall_score(labels, torch.argmax(preds, dim=1), average='macro'))\n",
        "    f1score_list4.append(f1_score(labels, torch.argmax(preds, dim=1), average='macro'))"
      ]
    },
    {
      "cell_type": "code",
      "execution_count": null,
      "metadata": {
        "colab": {
          "base_uri": "https://localhost:8080/"
        },
        "id": "92dQ8Jz5vFU4",
        "outputId": "2e7bc17f-4131-44e2-8b68-f766d8385893"
      },
      "outputs": [],
      "source": [
        "import statistics\n",
        "\n",
        "# Calcular el coeficiente de Cohen kappa global\n",
        "kappa_global4 = cohen_kappa_score(all_labels4, all_preds4)\n",
        "\n",
        "# Calcular la media y desviación estándar de cada métrica a partir de la lista correspondiente\n",
        "accuracy_mean4 = statistics.mean(accuracy_list4)\n",
        "accuracy_std4 = statistics.stdev(accuracy_list4)\n",
        "precision_mean4 = statistics.mean(precision_list4)\n",
        "precision_std4 = statistics.stdev(precision_list4)\n",
        "recall_mean4 = statistics.mean(recall_list4)\n",
        "recall_std4 = statistics.stdev(recall_list4)\n",
        "f1score_mean4 = statistics.mean(f1score_list4)\n",
        "f1score_std4 = statistics.stdev(f1score_list4)\n",
        "\n",
        "# Imprimir los resultados en pantalla\n",
        "print(\"Accuracy: {:.4f} ± {:.4f}\".format(accuracy_mean4, accuracy_std4))\n",
        "print(\"Precision: {:.4f} ± {:.4f}\".format(precision_mean4, precision_std4))\n",
        "print(\"Recall: {:.4f} ± {:.4f}\".format(recall_mean4, recall_std4))\n",
        "print(\"F1-score: {:.4f} ± {:.4f}\".format(f1score_mean4, f1score_std4))\n",
        "print(\"Cohen's Kappa: {:.4f}\".format(kappa_global4))"
      ]
    },
    {
      "cell_type": "code",
      "execution_count": null,
      "metadata": {
        "id": "P1lVaeHaNUtu"
      },
      "outputs": [],
      "source": [
        "# Crear un diccionario con los resultados\n",
        "results4 = {\n",
        "    'Metric': ['Accuracy', 'Precision', 'Recall', 'F1-score', \"Cohen's Kappa\"],\n",
        "    'Mean': [accuracy_mean4, precision_mean4, recall_mean4, f1score_mean4, kappa_global4],\n",
        "    'Std': [accuracy_std4, precision_std4, recall_std4, f1score_std4, 0]\n",
        "}\n",
        "\n",
        "# Crear el DataFrame\n",
        "df4 = pd.DataFrame(results4)\n",
        "\n",
        "# Guardar el DataFrame en un archivo CSV\n",
        "df4.to_csv('/content/drive/MyDrive/Colab Notebooks/tfm_bioinformatica/metric_results/metric_results4.csv', index=False)"
      ]
    },
    {
      "cell_type": "markdown",
      "metadata": {
        "id": "46hNpSl9R03e"
      },
      "source": [
        "### MobileNet-v2"
      ]
    },
    {
      "cell_type": "code",
      "execution_count": null,
      "metadata": {
        "colab": {
          "base_uri": "https://localhost:8080/",
          "height": 1000
        },
        "id": "iZBQeHg0R03g",
        "outputId": "59cebaf3-81af-4fbb-9b59-7f4333622f9a"
      },
      "outputs": [],
      "source": [
        "# Crea un objeto LeaveOneOut\n",
        "loo = LeaveOneOut()\n",
        "\n",
        "# Crear listas vacías para cada métrica\n",
        "accuracy_list5 = []\n",
        "precision_list5 = []\n",
        "recall_list5 = []\n",
        "f1score_list5 = []\n",
        "\n",
        "# Crea listas para almacenar las predicciones y las etiquetas verdaderas\n",
        "all_preds5 = []\n",
        "all_labels5 = []\n",
        "\n",
        "# Itera sobre cada conjunto de entrenamiento y prueba en el esquema LOO\n",
        "for train_idx, test_idx in loo.split(get_image_files(path)):\n",
        "    # Obtiene los índices de los elementos de entrenamiento y prueba\n",
        "    train_items, test_items = get_image_files(path)[train_idx], get_image_files(path)[test_idx]\n",
        "\n",
        "    # Crea un objeto DataBlock para cargar las imágenes de entrenamiento y prueba\n",
        "    dblock = DataBlock(blocks=(ImageBlock, CategoryBlock),\n",
        "                       get_items=get_image_files,\n",
        "                       get_y=parent_label,\n",
        "                       item_tfms=Resize(224),\n",
        "                       batch_tfms=aug_transforms())\n",
        "\n",
        "    # Crea un objeto DataLoader para los datos de entrenamiento y prueba\n",
        "    dls = dblock.dataloaders(path, bs=16, train=train_items, valid=test_items)\n",
        "\n",
        "    # Crear un modelo MobileNetV2 pre-entrenado\n",
        "    model_mobilenetv2 = models.mobilenet_v2(pretrained=True)\n",
        "    n_features = model_mobilenetv2.classifier[1].in_features\n",
        "\n",
        "    # Reemplazar el clasificador lineal de la red por uno nuevo\n",
        "    model_mobilenetv2.classifier[1] = nn.Linear(n_features, len(dls.vocab))\n",
        "\n",
        "    # Crear el objeto Learner\n",
        "    learn_mobilenetv2 = Learner(dls, model_mobilenetv2)\n",
        "\n",
        "    # Entrenar el modelo en este pliegue y obtener las métricas\n",
        "    learn_mobilenetv2.fine_tune(5)\n",
        "\n",
        "    # Realiza la evaluación en los datos de prueba\n",
        "    preds, labels = learn_mobilenetv2.get_preds(dl=dls.valid)\n",
        "    all_preds5.extend(torch.argmax(preds, dim=1).tolist())\n",
        "    all_labels5.extend(labels.tolist())\n",
        "\n",
        "    # Calcula las métricas utilizando sklearn.metrics\n",
        "    accuracy_list5.append(accuracy_score(labels, torch.argmax(preds, dim=1)))\n",
        "    precision_list5.append(precision_score(labels, torch.argmax(preds, dim=1), average='macro'))\n",
        "    recall_list5.append(recall_score(labels, torch.argmax(preds, dim=1), average='macro'))\n",
        "    f1score_list5.append(f1_score(labels, torch.argmax(preds, dim=1), average='macro'))"
      ]
    },
    {
      "cell_type": "code",
      "execution_count": null,
      "metadata": {
        "colab": {
          "base_uri": "https://localhost:8080/"
        },
        "id": "6i-un8yQR03i",
        "outputId": "108e7777-a88f-4a11-bc3d-7d9dbeb466aa"
      },
      "outputs": [],
      "source": [
        "import statistics\n",
        "\n",
        "# Calcular el coeficiente de Cohen kappa global\n",
        "kappa_global5 = cohen_kappa_score(all_labels5, all_preds5)\n",
        "\n",
        "# Calcular la media y desviación estándar de cada métrica a partir de la lista correspondiente\n",
        "accuracy_mean5 = statistics.mean(accuracy_list5)\n",
        "accuracy_std5 = statistics.stdev(accuracy_list5)\n",
        "precision_mean5 = statistics.mean(precision_list5)\n",
        "precision_std5 = statistics.stdev(precision_list5)\n",
        "recall_mean5 = statistics.mean(recall_list5)\n",
        "recall_std5 = statistics.stdev(recall_list5)\n",
        "f1score_mean5 = statistics.mean(f1score_list5)\n",
        "f1score_std5 = statistics.stdev(f1score_list5)\n",
        "\n",
        "# Imprimir los resultados en pantalla\n",
        "print(\"Accuracy: {:.4f} ± {:.4f}\".format(accuracy_mean5, accuracy_std5))\n",
        "print(\"Precision: {:.4f} ± {:.4f}\".format(precision_mean5, precision_std5))\n",
        "print(\"Recall: {:.4f} ± {:.4f}\".format(recall_mean5, recall_std5))\n",
        "print(\"F1-score: {:.4f} ± {:.4f}\".format(f1score_mean5, f1score_std5))\n",
        "print(\"Cohen's Kappa: {:.4f}\".format(kappa_global5))"
      ]
    },
    {
      "cell_type": "code",
      "execution_count": null,
      "metadata": {
        "id": "8O3bg7gGNi-n"
      },
      "outputs": [],
      "source": [
        "# Crear un diccionario con los resultados\n",
        "results5 = {\n",
        "    'Metric': ['Accuracy', 'Precision', 'Recall', 'F1-score', \"Cohen's Kappa\"],\n",
        "    'Mean': [accuracy_mean5, precision_mean5, recall_mean5, f1score_mean5, kappa_global5],\n",
        "    'Std': [accuracy_std5, precision_std5, recall_std5, f1score_std5, 0]\n",
        "}\n",
        "\n",
        "# Crear el DataFrame\n",
        "df5 = pd.DataFrame(results5)\n",
        "\n",
        "# Guardar el DataFrame en un archivo CSV\n",
        "df5.to_csv('/content/drive/MyDrive/Colab Notebooks/tfm_bioinformatica/metric_results/metric_results5.csv', index=False)"
      ]
    },
    {
      "cell_type": "markdown",
      "metadata": {
        "id": "Mt3FvEH-MDAy"
      },
      "source": [
        "## Statistics analysis"
      ]
    },
    {
      "cell_type": "code",
      "execution_count": null,
      "metadata": {
        "colab": {
          "base_uri": "https://localhost:8080/"
        },
        "id": "3TlG1w0yL8Pq",
        "outputId": "14d646ab-17f4-4bd9-b7e3-a0f7b08ad72b"
      },
      "outputs": [],
      "source": [
        "import pandas as pd\n",
        "from scipy.stats import shapiro\n",
        "\n",
        "# Ruta de la carpeta donde se encuentran los archivos CSV\n",
        "folder_path = '/content/drive/MyDrive/Colab Notebooks/tfm_bioinformatica/metric_results/'\n",
        "\n",
        "# Lista para almacenar los datos de los modelos\n",
        "data = []\n",
        "model_names = ['CNN', 'ResNet-18', 'Vgg-16', 'EfficientNet-v2', 'MobileNet-v2']\n",
        "\n",
        "# Cargar los datos de los CSVs y mostrar los resultados\n",
        "for i, model_name in enumerate(model_names):\n",
        "    filename = folder_path + f\"metric_results{i+1}.csv\"\n",
        "    df = pd.read_csv(filename)\n",
        "    data.append(df['Mean'])\n",
        "\n",
        "# Realizar el análisis de normalidad para cada grupo\n",
        "normality_test_passed = True\n",
        "for i in range(len(data)):\n",
        "    print(f\"Análisis de normalidad para el modelo {model_names[i]}:\")\n",
        "    stat, p = shapiro(data[i])\n",
        "    print(f\"Estadístico de prueba: {stat}\")\n",
        "    print(f\"Valor p: {p}\")\n",
        "    if p > 0.05:\n",
        "        print(\"La muestra sigue una distribución normal.\")\n",
        "    else:\n",
        "        print(\"La muestra no sigue una distribución normal.\")\n",
        "        normality_test_passed = False\n",
        "    print()"
      ]
    },
    {
      "cell_type": "code",
      "execution_count": null,
      "metadata": {
        "colab": {
          "base_uri": "https://localhost:8080/",
          "height": 903
        },
        "id": "BZ-OvBOaMhfc",
        "outputId": "091883be-11ff-4cd3-fdff-2c4672bcff5a"
      },
      "outputs": [],
      "source": [
        "import numpy as np\n",
        "from scipy.stats import kruskal\n",
        "from statsmodels.stats.multicomp import pairwise_tukeyhsd\n",
        "import matplotlib.pyplot as plt\n",
        "\n",
        "# Realizar el test de Kruskal-Wallis\n",
        "stat, p = kruskal(*data)\n",
        "print(\"Test de Kruskal-Wallis:\")\n",
        "print(f\"Estadístico de prueba: {stat}\")\n",
        "print(f\"Valor p: {p}\")\n",
        "print()\n",
        "\n",
        "# Realizar comparaciones post hoc utilizando la prueba de Tukey HSD\n",
        "if p > 0.05:\n",
        "    print(\"No se encontraron diferencias significativas entre los grupos. No es necesario realizar comparaciones post hoc.\")\n",
        "else:\n",
        "    print(\"Realizando comparaciones post hoc utilizando la prueba de Tukey HSD:\")\n",
        "    posthoc_results = pairwise_tukeyhsd(np.concatenate(data), np.repeat(model_names, [len(d) for d in data]))\n",
        "    print(posthoc_results)\n",
        "\n",
        "    # Representación de los resultados\n",
        "    posthoc_results.plot_simultaneous()\n",
        "    plt.show()"
      ]
    }
  ],
  "metadata": {
    "accelerator": "GPU",
    "colab": {
      "collapsed_sections": [
        "mUIY_3aHKJN3",
        "TOFezn48KkrA",
        "RAzIAoaP77MK",
        "2UNxV1YOvFUv",
        "46hNpSl9R03e"
      ],
      "gpuType": "T4",
      "provenance": [],
      "toc_visible": true
    },
    "kernelspec": {
      "display_name": "Python 3",
      "name": "python3"
    },
    "language_info": {
      "name": "python"
    },
    "widgets": {
      "application/vnd.jupyter.widget-state+json": {
        "0e0c840932cf49ebbc6df046c48e96b8": {
          "model_module": "@jupyter-widgets/base",
          "model_module_version": "1.2.0",
          "model_name": "LayoutModel",
          "state": {
            "_model_module": "@jupyter-widgets/base",
            "_model_module_version": "1.2.0",
            "_model_name": "LayoutModel",
            "_view_count": null,
            "_view_module": "@jupyter-widgets/base",
            "_view_module_version": "1.2.0",
            "_view_name": "LayoutView",
            "align_content": null,
            "align_items": null,
            "align_self": null,
            "border": null,
            "bottom": null,
            "display": null,
            "flex": null,
            "flex_flow": null,
            "grid_area": null,
            "grid_auto_columns": null,
            "grid_auto_flow": null,
            "grid_auto_rows": null,
            "grid_column": null,
            "grid_gap": null,
            "grid_row": null,
            "grid_template_areas": null,
            "grid_template_columns": null,
            "grid_template_rows": null,
            "height": null,
            "justify_content": null,
            "justify_items": null,
            "left": null,
            "margin": null,
            "max_height": null,
            "max_width": null,
            "min_height": null,
            "min_width": null,
            "object_fit": null,
            "object_position": null,
            "order": null,
            "overflow": null,
            "overflow_x": null,
            "overflow_y": null,
            "padding": null,
            "right": null,
            "top": null,
            "visibility": null,
            "width": null
          }
        },
        "11284432c7e54844bf9b018098328456": {
          "model_module": "@jupyter-widgets/controls",
          "model_module_version": "1.5.0",
          "model_name": "HTMLModel",
          "state": {
            "_dom_classes": [],
            "_model_module": "@jupyter-widgets/controls",
            "_model_module_version": "1.5.0",
            "_model_name": "HTMLModel",
            "_view_count": null,
            "_view_module": "@jupyter-widgets/controls",
            "_view_module_version": "1.5.0",
            "_view_name": "HTMLView",
            "description": "",
            "description_tooltip": null,
            "layout": "IPY_MODEL_9dfca645b6724737ace930eebca6bfd5",
            "placeholder": "​",
            "style": "IPY_MODEL_7a9a3ec569ab4e4b96475edf63bbe2cd",
            "value": " 86.5M/86.5M [00:00&lt;00:00, 135MB/s]"
          }
        },
        "3355b109b56b4b189cd7f191812a875c": {
          "model_module": "@jupyter-widgets/base",
          "model_module_version": "1.2.0",
          "model_name": "LayoutModel",
          "state": {
            "_model_module": "@jupyter-widgets/base",
            "_model_module_version": "1.2.0",
            "_model_name": "LayoutModel",
            "_view_count": null,
            "_view_module": "@jupyter-widgets/base",
            "_view_module_version": "1.2.0",
            "_view_name": "LayoutView",
            "align_content": null,
            "align_items": null,
            "align_self": null,
            "border": null,
            "bottom": null,
            "display": null,
            "flex": null,
            "flex_flow": null,
            "grid_area": null,
            "grid_auto_columns": null,
            "grid_auto_flow": null,
            "grid_auto_rows": null,
            "grid_column": null,
            "grid_gap": null,
            "grid_row": null,
            "grid_template_areas": null,
            "grid_template_columns": null,
            "grid_template_rows": null,
            "height": null,
            "justify_content": null,
            "justify_items": null,
            "left": null,
            "margin": null,
            "max_height": null,
            "max_width": null,
            "min_height": null,
            "min_width": null,
            "object_fit": null,
            "object_position": null,
            "order": null,
            "overflow": null,
            "overflow_x": null,
            "overflow_y": null,
            "padding": null,
            "right": null,
            "top": null,
            "visibility": null,
            "width": null
          }
        },
        "3a65ddf7e37f447b87bec60ef27c78a1": {
          "model_module": "@jupyter-widgets/controls",
          "model_module_version": "1.5.0",
          "model_name": "HBoxModel",
          "state": {
            "_dom_classes": [],
            "_model_module": "@jupyter-widgets/controls",
            "_model_module_version": "1.5.0",
            "_model_name": "HBoxModel",
            "_view_count": null,
            "_view_module": "@jupyter-widgets/controls",
            "_view_module_version": "1.5.0",
            "_view_name": "HBoxView",
            "box_style": "",
            "children": [
              "IPY_MODEL_c91387fc0d7041dabb99ad1dab10627f",
              "IPY_MODEL_f005e92450ed4b94b4f7ac69c99fdefd",
              "IPY_MODEL_11284432c7e54844bf9b018098328456"
            ],
            "layout": "IPY_MODEL_3355b109b56b4b189cd7f191812a875c"
          }
        },
        "3abc97b29aae40ec9088e95ae92647de": {
          "model_module": "@jupyter-widgets/base",
          "model_module_version": "1.2.0",
          "model_name": "LayoutModel",
          "state": {
            "_model_module": "@jupyter-widgets/base",
            "_model_module_version": "1.2.0",
            "_model_name": "LayoutModel",
            "_view_count": null,
            "_view_module": "@jupyter-widgets/base",
            "_view_module_version": "1.2.0",
            "_view_name": "LayoutView",
            "align_content": null,
            "align_items": null,
            "align_self": null,
            "border": null,
            "bottom": null,
            "display": null,
            "flex": null,
            "flex_flow": null,
            "grid_area": null,
            "grid_auto_columns": null,
            "grid_auto_flow": null,
            "grid_auto_rows": null,
            "grid_column": null,
            "grid_gap": null,
            "grid_row": null,
            "grid_template_areas": null,
            "grid_template_columns": null,
            "grid_template_rows": null,
            "height": null,
            "justify_content": null,
            "justify_items": null,
            "left": null,
            "margin": null,
            "max_height": null,
            "max_width": null,
            "min_height": null,
            "min_width": null,
            "object_fit": null,
            "object_position": null,
            "order": null,
            "overflow": null,
            "overflow_x": null,
            "overflow_y": null,
            "padding": null,
            "right": null,
            "top": null,
            "visibility": null,
            "width": null
          }
        },
        "4b6b3db862d64c589a5ea81f6eeffb6a": {
          "model_module": "@jupyter-widgets/controls",
          "model_module_version": "1.5.0",
          "model_name": "ProgressStyleModel",
          "state": {
            "_model_module": "@jupyter-widgets/controls",
            "_model_module_version": "1.5.0",
            "_model_name": "ProgressStyleModel",
            "_view_count": null,
            "_view_module": "@jupyter-widgets/base",
            "_view_module_version": "1.2.0",
            "_view_name": "StyleView",
            "bar_color": null,
            "description_width": ""
          }
        },
        "7a9a3ec569ab4e4b96475edf63bbe2cd": {
          "model_module": "@jupyter-widgets/controls",
          "model_module_version": "1.5.0",
          "model_name": "DescriptionStyleModel",
          "state": {
            "_model_module": "@jupyter-widgets/controls",
            "_model_module_version": "1.5.0",
            "_model_name": "DescriptionStyleModel",
            "_view_count": null,
            "_view_module": "@jupyter-widgets/base",
            "_view_module_version": "1.2.0",
            "_view_name": "StyleView",
            "description_width": ""
          }
        },
        "8e9ea64e813845d5be65ccc742a72fa3": {
          "model_module": "@jupyter-widgets/controls",
          "model_module_version": "1.5.0",
          "model_name": "DescriptionStyleModel",
          "state": {
            "_model_module": "@jupyter-widgets/controls",
            "_model_module_version": "1.5.0",
            "_model_name": "DescriptionStyleModel",
            "_view_count": null,
            "_view_module": "@jupyter-widgets/base",
            "_view_module_version": "1.2.0",
            "_view_name": "StyleView",
            "description_width": ""
          }
        },
        "9dfca645b6724737ace930eebca6bfd5": {
          "model_module": "@jupyter-widgets/base",
          "model_module_version": "1.2.0",
          "model_name": "LayoutModel",
          "state": {
            "_model_module": "@jupyter-widgets/base",
            "_model_module_version": "1.2.0",
            "_model_name": "LayoutModel",
            "_view_count": null,
            "_view_module": "@jupyter-widgets/base",
            "_view_module_version": "1.2.0",
            "_view_name": "LayoutView",
            "align_content": null,
            "align_items": null,
            "align_self": null,
            "border": null,
            "bottom": null,
            "display": null,
            "flex": null,
            "flex_flow": null,
            "grid_area": null,
            "grid_auto_columns": null,
            "grid_auto_flow": null,
            "grid_auto_rows": null,
            "grid_column": null,
            "grid_gap": null,
            "grid_row": null,
            "grid_template_areas": null,
            "grid_template_columns": null,
            "grid_template_rows": null,
            "height": null,
            "justify_content": null,
            "justify_items": null,
            "left": null,
            "margin": null,
            "max_height": null,
            "max_width": null,
            "min_height": null,
            "min_width": null,
            "object_fit": null,
            "object_position": null,
            "order": null,
            "overflow": null,
            "overflow_x": null,
            "overflow_y": null,
            "padding": null,
            "right": null,
            "top": null,
            "visibility": null,
            "width": null
          }
        },
        "c91387fc0d7041dabb99ad1dab10627f": {
          "model_module": "@jupyter-widgets/controls",
          "model_module_version": "1.5.0",
          "model_name": "HTMLModel",
          "state": {
            "_dom_classes": [],
            "_model_module": "@jupyter-widgets/controls",
            "_model_module_version": "1.5.0",
            "_model_name": "HTMLModel",
            "_view_count": null,
            "_view_module": "@jupyter-widgets/controls",
            "_view_module_version": "1.5.0",
            "_view_name": "HTMLView",
            "description": "",
            "description_tooltip": null,
            "layout": "IPY_MODEL_0e0c840932cf49ebbc6df046c48e96b8",
            "placeholder": "​",
            "style": "IPY_MODEL_8e9ea64e813845d5be65ccc742a72fa3",
            "value": "Downloading model.safetensors: 100%"
          }
        },
        "f005e92450ed4b94b4f7ac69c99fdefd": {
          "model_module": "@jupyter-widgets/controls",
          "model_module_version": "1.5.0",
          "model_name": "FloatProgressModel",
          "state": {
            "_dom_classes": [],
            "_model_module": "@jupyter-widgets/controls",
            "_model_module_version": "1.5.0",
            "_model_name": "FloatProgressModel",
            "_view_count": null,
            "_view_module": "@jupyter-widgets/controls",
            "_view_module_version": "1.5.0",
            "_view_name": "ProgressView",
            "bar_style": "success",
            "description": "",
            "description_tooltip": null,
            "layout": "IPY_MODEL_3abc97b29aae40ec9088e95ae92647de",
            "max": 86523256,
            "min": 0,
            "orientation": "horizontal",
            "style": "IPY_MODEL_4b6b3db862d64c589a5ea81f6eeffb6a",
            "value": 86523256
          }
        }
      }
    }
  },
  "nbformat": 4,
  "nbformat_minor": 0
}
